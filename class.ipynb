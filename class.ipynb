{
 "cells": [
  {
   "cell_type": "code",
   "execution_count": 4,
   "id": "cf1eef54-4822-4cde-862b-36e5f1b4abbf",
   "metadata": {},
   "outputs": [],
   "source": [
    "#Class"
   ]
  },
  {
   "cell_type": "code",
   "execution_count": 6,
   "id": "c0029d52-dd35-4257-8813-d20f6543c9c0",
   "metadata": {},
   "outputs": [
    {
     "name": "stdin",
     "output_type": "stream",
     "text": [
      "Enter a string:  HE\n"
     ]
    },
    {
     "name": "stdout",
     "output_type": "stream",
     "text": [
      "HE\n"
     ]
    }
   ],
   "source": [
    "class StringManipulator:\n",
    "    def __init__(self):\n",
    "        self.user_string = \"\"\n",
    "    \n",
    "    def getString(self):\n",
    "        self.user_string = input(\"Enter a string: \")\n",
    "    \n",
    "    def printString(self):\n",
    "        print(self.user_string.upper())\n",
    "\n",
    "if __name__ == \"__main__\":\n",
    "    obj = StringManipulator()\n",
    "    obj.getString()\n",
    "    obj.printString()"
   ]
  },
  {
   "cell_type": "code",
   "execution_count": 10,
   "id": "3aff8de4-358c-4473-a83f-2c6e576d5e99",
   "metadata": {},
   "outputs": [
    {
     "name": "stdin",
     "output_type": "stream",
     "text": [
      "Enter the lenght:  4\n"
     ]
    },
    {
     "name": "stdout",
     "output_type": "stream",
     "text": [
      "16\n"
     ]
    }
   ],
   "source": [
    "class Shape:\n",
    "    def area(self):\n",
    "        return 0\n",
    "\n",
    "class Square(Shape):\n",
    "    def __init__(self, length):\n",
    "        self.length = length\n",
    "\n",
    "    def area(self):\n",
    "        return self.length * self.length\n",
    "\n",
    "square = Square(int(input(\"Enter the lenght: \")))\n",
    "print(square.area())  "
   ]
  },
  {
   "cell_type": "code",
   "execution_count": 16,
   "id": "6a56b4bb-f47f-4b1b-906c-c14f8d8e1e32",
   "metadata": {},
   "outputs": [
    {
     "name": "stdin",
     "output_type": "stream",
     "text": [
      "Enter length:  4\n",
      "Enter width:  4\n"
     ]
    },
    {
     "name": "stdout",
     "output_type": "stream",
     "text": [
      "Area of the rectangle: 16.0\n"
     ]
    }
   ],
   "source": [
    "class Shape:\n",
    "    def area(self):\n",
    "        return 0\n",
    "\n",
    "class Rectangle(Shape):\n",
    "    def __init__(self):\n",
    "        self.length = float(input(\"Enter length: \"))\n",
    "        self.width = float(input(\"Enter width: \"))\n",
    "\n",
    "    def area(self):\n",
    "        return self.length * self.width\n",
    "\n",
    "rectangle = Rectangle()\n",
    "print(\"Area of the rectangle:\", rectangle.area())"
   ]
  },
  {
   "cell_type": "code",
   "execution_count": 22,
   "id": "cd4b038c-7b29-416f-b209-d729e0056290",
   "metadata": {},
   "outputs": [
    {
     "name": "stdout",
     "output_type": "stream",
     "text": [
      "Enter coordinates for Point 1:\n"
     ]
    },
    {
     "name": "stdin",
     "output_type": "stream",
     "text": [
      "Enter x coordinate:  4\n",
      "Enter y coordinate:  2\n"
     ]
    },
    {
     "name": "stdout",
     "output_type": "stream",
     "text": [
      "Enter coordinates for Point 2:\n"
     ]
    },
    {
     "name": "stdin",
     "output_type": "stream",
     "text": [
      "Enter x coordinate:  6\n",
      "Enter y coordinate:  8\n"
     ]
    },
    {
     "name": "stdout",
     "output_type": "stream",
     "text": [
      "Point coordinates: (4.0, 2.0)\n"
     ]
    },
    {
     "name": "stdin",
     "output_type": "stream",
     "text": [
      "Enter new x coordinate:  45\n",
      "Enter new y coordinate:  69\n"
     ]
    },
    {
     "name": "stdout",
     "output_type": "stream",
     "text": [
      "Point coordinates: (45.0, 69.0)\n",
      "Distance: 72.40165743959182\n"
     ]
    }
   ],
   "source": [
    "import math\n",
    "\n",
    "class Point:\n",
    "    def __init__(self):\n",
    "        self.x = float(input(\"Enter x coordinate: \"))\n",
    "        self.y = float(input(\"Enter y coordinate: \"))\n",
    "\n",
    "    def show(self):\n",
    "        print(f\"Point coordinates: ({self.x}, {self.y})\")\n",
    "\n",
    "    def move(self):\n",
    "        self.x = float(input(\"Enter new x coordinate: \"))\n",
    "        self.y = float(input(\"Enter new y coordinate: \"))\n",
    "\n",
    "    def dist(self, other_point):\n",
    "        return math.sqrt((self.x - other_point.x) ** 2 + (self.y - other_point.y) ** 2)\n",
    "\n",
    "print(\"Enter coordinates for Point 1:\")\n",
    "p1 = Point()\n",
    "print(\"Enter coordinates for Point 2:\")\n",
    "p2 = Point()\n",
    "p1.show()\n",
    "p1.move()\n",
    "p1.show()\n",
    "print(\"Distance:\", p1.dist(p2))"
   ]
  },
  {
   "cell_type": "code",
   "execution_count": 24,
   "id": "e8bcf5b9-bb72-4065-9fb6-6c561c0430b8",
   "metadata": {},
   "outputs": [
    {
     "name": "stdin",
     "output_type": "stream",
     "text": [
      "Enter account owner's name:  Yerdaulet\n"
     ]
    },
    {
     "name": "stdout",
     "output_type": "stream",
     "text": [
      "Account owner: Yerdaulet, Balance: 0\n"
     ]
    },
    {
     "name": "stdin",
     "output_type": "stream",
     "text": [
      "Enter deposit amount:  151545165\n"
     ]
    },
    {
     "name": "stdout",
     "output_type": "stream",
     "text": [
      "Deposited 151545165.0. New balance: 151545165.0\n"
     ]
    },
    {
     "name": "stdin",
     "output_type": "stream",
     "text": [
      "Enter withdrawal amount:  144\n"
     ]
    },
    {
     "name": "stdout",
     "output_type": "stream",
     "text": [
      "Withdrawn 144.0. New balance: 151545021.0\n"
     ]
    }
   ],
   "source": [
    "class Account:\n",
    "    def __init__(self, owner, balance=0):\n",
    "        self.owner = owner\n",
    "        self.balance = balance\n",
    "    \n",
    "    def deposit(self):\n",
    "        amount = float(input(\"Enter deposit amount: \"))\n",
    "        if amount > 0:\n",
    "            self.balance += amount\n",
    "            print(f\"Deposited {amount}. New balance: {self.balance}\")\n",
    "        else:\n",
    "            print(\"Deposit amount must be positive.\")\n",
    "    \n",
    "    def withdraw(self):\n",
    "        amount = float(input(\"Enter withdrawal amount: \"))\n",
    "        if 0 < amount <= self.balance:\n",
    "            self.balance -= amount\n",
    "            print(f\"Withdrawn {amount}. New balance: {self.balance}\")\n",
    "        else:\n",
    "            print(\"Insufficient funds or invalid amount.\")\n",
    "    \n",
    "    def show_balance(self):\n",
    "        print(f\"Account owner: {self.owner}, Balance: {self.balance}\")\n",
    "\n",
    "owner_name = input(\"Enter account owner's name: \")\n",
    "account = Account(owner_name)\n",
    "account.show_balance()\n",
    "account.deposit()\n",
    "account.withdraw()"
   ]
  },
  {
   "cell_type": "code",
   "execution_count": 26,
   "id": "32a441c6-b41d-4889-acd2-896a3662368d",
   "metadata": {},
   "outputs": [
    {
     "name": "stdin",
     "output_type": "stream",
     "text": [
      "Enter numbers:  1 2 3 4 5 6 7 8 9 10 11 12 13 14 15 16 17 18 19\n"
     ]
    },
    {
     "name": "stdout",
     "output_type": "stream",
     "text": [
      "Prime numbers: [2, 3, 5, 7, 11, 13, 17, 19]\n"
     ]
    }
   ],
   "source": [
    "def is_prime(n):\n",
    "    if n < 2:\n",
    "        return False\n",
    "    for i in range(2, int(n ** 0.5) + 1):\n",
    "        if n % i == 0:\n",
    "            return False\n",
    "    return True\n",
    "\n",
    "numbers = list(map(int, input(\"Enter numbers: \").split()))\n",
    "\n",
    "prime_numbers = list(filter(lambda x: is_prime(x), numbers))\n",
    "\n",
    "print(\"Prime numbers:\", prime_numbers)\n"
   ]
  },
  {
   "cell_type": "code",
   "execution_count": null,
   "id": "8556cf4e-8d76-4e27-ad9f-7257cf161d04",
   "metadata": {},
   "outputs": [],
   "source": []
  }
 ],
 "metadata": {
  "kernelspec": {
   "display_name": "Python [conda env:base] *",
   "language": "python",
   "name": "conda-base-py"
  },
  "language_info": {
   "codemirror_mode": {
    "name": "ipython",
    "version": 3
   },
   "file_extension": ".py",
   "mimetype": "text/x-python",
   "name": "python",
   "nbconvert_exporter": "python",
   "pygments_lexer": "ipython3",
   "version": "3.12.7"
  }
 },
 "nbformat": 4,
 "nbformat_minor": 5
}
