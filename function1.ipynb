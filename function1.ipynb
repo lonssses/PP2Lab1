{
 "cells": [
  {
   "cell_type": "code",
   "execution_count": 2,
   "id": "9f346a87-38c7-45e9-a019-841253164344",
   "metadata": {},
   "outputs": [],
   "source": [
    "#Functions 1"
   ]
  },
  {
   "cell_type": "code",
   "execution_count": 8,
   "id": "1cadeb9b-5a40-45aa-bf69-8471951c5552",
   "metadata": {},
   "outputs": [
    {
     "name": "stdin",
     "output_type": "stream",
     "text": [
      "Enter grams:  45\n"
     ]
    },
    {
     "name": "stdout",
     "output_type": "stream",
     "text": [
      "1275.73\n"
     ]
    }
   ],
   "source": [
    "grams = int(input(\"Enter grams: \"))\n",
    "\n",
    "def convertor(grams):\n",
    "    ounces = 28.3495231 * grams\n",
    "    print(f\"{ounces:.2f}\")\n",
    "\n",
    "convertor(grams)"
   ]
  },
  {
   "cell_type": "code",
   "execution_count": 14,
   "id": "fd94a943-4bcd-4dbf-a55c-a8e0404083f8",
   "metadata": {},
   "outputs": [
    {
     "name": "stdin",
     "output_type": "stream",
     "text": [
      "Enter the temperature:  210\n"
     ]
    },
    {
     "data": {
      "text/plain": [
       "'98.89'"
      ]
     },
     "execution_count": 14,
     "metadata": {},
     "output_type": "execute_result"
    }
   ],
   "source": [
    "F = int(input(\"Enter the temperature: \"))\n",
    "\n",
    "def CelciumConvertor():\n",
    "    C = (5 / 9) * (F - 32)\n",
    "    return (f\"{C:.2f}\")\n",
    "\n",
    "CelciumConvertor()"
   ]
  },
  {
   "cell_type": "code",
   "execution_count": 16,
   "id": "8a070bfa-b781-444e-8a0c-5ed6c22bffc3",
   "metadata": {},
   "outputs": [
    {
     "name": "stdout",
     "output_type": "stream",
     "text": [
      "Chickens: 23, Rabbits: 12\n"
     ]
    }
   ],
   "source": [
    "def solve(numheads, numlegs):\n",
    "    for chickens in range(numheads + 1):\n",
    "        rabbits = numheads - chickens\n",
    "        if (chickens * 2 + rabbits * 4) == numlegs:\n",
    "            return chickens, rabbits\n",
    "    return None, None\n",
    "\n",
    "num_heads = 35\n",
    "num_legs = 94\n",
    "chickens, rabbits = solve(num_heads, num_legs)\n",
    "print(f\"Chickens: {chickens}, Rabbits: {rabbits}\")"
   ]
  },
  {
   "cell_type": "code",
   "execution_count": 22,
   "id": "ebe03759-18a5-4693-8c95-b113f8a137ce",
   "metadata": {},
   "outputs": [
    {
     "name": "stdin",
     "output_type": "stream",
     "text": [
      "Enter numbers:  1 5 7 9 4 6\n"
     ]
    },
    {
     "name": "stdout",
     "output_type": "stream",
     "text": [
      "Prime numbers: [5, 7]\n"
     ]
    }
   ],
   "source": [
    "def is_prime(n):\n",
    "    if n < 2:\n",
    "        return False\n",
    "    for i in range(2, int(n ** 0.5) + 1):\n",
    "        if n % i == 0:\n",
    "            return False\n",
    "    return True\n",
    "\n",
    "def filter_prime(numbers):\n",
    "    return [num for num in numbers if is_prime(num)]\n",
    "\n",
    "numbers = list(map(int, input(\"Enter numbers: \").split()))\n",
    "prime_numbers = filter_prime(numbers)\n",
    "print(\"Prime numbers:\", prime_numbers)"
   ]
  },
  {
   "cell_type": "code",
   "execution_count": 24,
   "id": "44348754-adf6-47c9-a8f6-db1e0e9badb5",
   "metadata": {},
   "outputs": [
    {
     "name": "stdin",
     "output_type": "stream",
     "text": [
      "Enter a string:  alo\n"
     ]
    },
    {
     "name": "stdout",
     "output_type": "stream",
     "text": [
      "Permutations of the string:\n",
      "alo\n",
      "aol\n",
      "lao\n",
      "loa\n",
      "oal\n",
      "ola\n"
     ]
    }
   ],
   "source": [
    "from itertools import permutations\n",
    "\n",
    "def print_permutations(s):\n",
    "    for perm in permutations(s):\n",
    "        print(''.join(perm))\n",
    "\n",
    "string_input = input(\"Enter a string: \")\n",
    "print(\"Permutations of the string:\")\n",
    "print_permutations(string_input)"
   ]
  },
  {
   "cell_type": "code",
   "execution_count": 26,
   "id": "021a2717-eda7-4f3a-849b-91dec1f1a622",
   "metadata": {},
   "outputs": [
    {
     "name": "stdin",
     "output_type": "stream",
     "text": [
      "Enter a sentence:  Hello My World\n"
     ]
    },
    {
     "name": "stdout",
     "output_type": "stream",
     "text": [
      "Reversed sentence: World My Hello\n"
     ]
    }
   ],
   "source": [
    "def reverse_words(sentence):\n",
    "    return ' '.join(sentence.split()[::-1])\n",
    "\n",
    "sentence_input = input(\"Enter a sentence: \")\n",
    "print(\"Reversed sentence:\", reverse_words(sentence_input))"
   ]
  },
  {
   "cell_type": "code",
   "execution_count": 28,
   "id": "311959fd-1290-4ceb-8d2e-41a7286f5e09",
   "metadata": {},
   "outputs": [
    {
     "name": "stdout",
     "output_type": "stream",
     "text": [
      "Random List: [5, 2, 1, 5, 1, 5, 5, 4, 4, 1]\n",
      "Contains consecutive 3s: False\n"
     ]
    }
   ],
   "source": [
    "import random\n",
    "\n",
    "def has_33(nums):\n",
    "    for i in range(len(nums) - 1):\n",
    "        if nums[i] == 3 and nums[i + 1] == 3:\n",
    "            return True\n",
    "    return False\n",
    "\n",
    "random_nums = [random.randint(1, 5) for _ in range(10)]\n",
    "print(\"Random List:\", random_nums)\n",
    "print(\"Contains consecutive 3s:\", has_33(random_nums))"
   ]
  },
  {
   "cell_type": "code",
   "execution_count": 30,
   "id": "6ed97a31-e4db-4083-988c-ece91c41284c",
   "metadata": {},
   "outputs": [
    {
     "name": "stdout",
     "output_type": "stream",
     "text": [
      "Random List: [8, 4, 3, 5, 1, 5, 1, 5, 9, 6]\n",
      "Contains 007 in order: False\n"
     ]
    }
   ],
   "source": [
    "import random\n",
    "\n",
    "def spy_game(nums):\n",
    "    code = [0, 0, 7]\n",
    "    for num in nums:\n",
    "        if num == code[0]:\n",
    "            code.pop(0)\n",
    "        if not code:\n",
    "            return True\n",
    "    return False\n",
    "\n",
    "random_nums = [random.randint(0, 9) for _ in range(10)]\n",
    "print(\"Random List:\", random_nums)\n",
    "print(\"Contains 007 in order:\", spy_game(random_nums))"
   ]
  },
  {
   "cell_type": "code",
   "execution_count": 40,
   "id": "940974e6-e0f1-4206-968e-8985c1a77513",
   "metadata": {},
   "outputs": [
    {
     "name": "stdin",
     "output_type": "stream",
     "text": [
      "Enter the radius:  4\n"
     ]
    },
    {
     "data": {
      "text/plain": [
       "'268.08'"
      ]
     },
     "execution_count": 40,
     "metadata": {},
     "output_type": "execute_result"
    }
   ],
   "source": [
    "import math \n",
    "\n",
    "def volume(r):\n",
    "    V = (4 * math.pi * pow(r, 3)) / 3\n",
    "    return f\"{V:.2f}\"\n",
    "\n",
    "\n",
    "r = int(input(\"Enter the radius: \"))\n",
    "volume(r)"
   ]
  },
  {
   "cell_type": "code",
   "execution_count": 42,
   "id": "757db443-189e-4b91-b933-00bcfe4dd15d",
   "metadata": {},
   "outputs": [
    {
     "name": "stdout",
     "output_type": "stream",
     "text": [
      "Random List: [9, 2, 8, 9, 6, 6, 5, 4, 6, 0]\n",
      "Unique Elements: [9, 2, 8, 6, 5, 4, 0]\n"
     ]
    }
   ],
   "source": [
    "import random\n",
    "\n",
    "def unique_elements(lst):\n",
    "    unique_list = []\n",
    "    for item in lst:\n",
    "        if item not in unique_list:\n",
    "            unique_list.append(item)\n",
    "    return unique_list\n",
    "\n",
    "random_nums = [random.randint(0, 9) for _ in range(10)]\n",
    "print(\"Random List:\", random_nums)\n",
    "print(\"Unique Elements:\", unique_elements(random_nums))"
   ]
  },
  {
   "cell_type": "code",
   "execution_count": 52,
   "id": "4c36a71e-a859-4255-8e5b-17f2ef1c655e",
   "metadata": {},
   "outputs": [
    {
     "name": "stdin",
     "output_type": "stream",
     "text": [
      "Enter a word or phrase:  halo aloh\n"
     ]
    },
    {
     "name": "stdout",
     "output_type": "stream",
     "text": [
      " \"halo aloh\" is a palindrome\n"
     ]
    }
   ],
   "source": [
    "def is_palindrome(s):\n",
    "    s = ''.join(c.lower() for c in s if c.isalnum())\n",
    "    return s == s[::-1]\n",
    "\n",
    "user_input = input(\"Enter a word or phrase: \")\n",
    "print(f' \"{user_input}\" is a palindrome')"
   ]
  },
  {
   "cell_type": "code",
   "execution_count": 62,
   "id": "e3cfb692-2ffd-4fae-a60c-4b8a29528d01",
   "metadata": {},
   "outputs": [
    {
     "name": "stdin",
     "output_type": "stream",
     "text": [
      "Enter a list of integers separated by spaces:  4 2 1\n"
     ]
    },
    {
     "name": "stdout",
     "output_type": "stream",
     "text": [
      "****\n",
      "**\n",
      "*\n"
     ]
    }
   ],
   "source": [
    "def histogram(lst):\n",
    "    for num in lst:\n",
    "        print('*' * num)\n",
    "\n",
    "user_input = input(\"Enter a list of integers separated by spaces: \")\n",
    "numbers = list(map(int, user_input.split()))\n",
    "histogram(numbers)"
   ]
  },
  {
   "cell_type": "code",
   "execution_count": 66,
   "id": "73c7de97-dce5-4e77-94e0-42e6887f105f",
   "metadata": {},
   "outputs": [
    {
     "name": "stdin",
     "output_type": "stream",
     "text": [
      "Hello! What is your name?  Yerdaulet\n"
     ]
    },
    {
     "name": "stdout",
     "output_type": "stream",
     "text": [
      "\n",
      "Well, Yerdaulet, I am thinking of a number between 1 and 20.\n"
     ]
    },
    {
     "name": "stdin",
     "output_type": "stream",
     "text": [
      "Take a guess:  5\n"
     ]
    },
    {
     "name": "stdout",
     "output_type": "stream",
     "text": [
      "Your guess is too high.\n"
     ]
    },
    {
     "name": "stdin",
     "output_type": "stream",
     "text": [
      "Take a guess:  3\n"
     ]
    },
    {
     "name": "stdout",
     "output_type": "stream",
     "text": [
      "Your guess is too high.\n"
     ]
    },
    {
     "name": "stdin",
     "output_type": "stream",
     "text": [
      "Take a guess:  2\n"
     ]
    },
    {
     "name": "stdout",
     "output_type": "stream",
     "text": [
      "Good job, Yerdaulet! You guessed my number in 3 guesses!\n"
     ]
    }
   ],
   "source": [
    "import random\n",
    "\n",
    "def guess_the_number():\n",
    "    name = input(\"Hello! What is your name? \")\n",
    "    secret_number = random.randint(1, 20)\n",
    "    print(f\"\\nWell, {name}, I am thinking of a number between 1 and 20.\")\n",
    "    \n",
    "    attempts = 0\n",
    "    while True:\n",
    "        guess = int(input(\"Take a guess: \"))\n",
    "        attempts += 1\n",
    "        \n",
    "        if guess < secret_number:\n",
    "            print(\"Your guess is too low.\")\n",
    "        elif guess > secret_number:\n",
    "            print(\"Your guess is too high.\")\n",
    "        else:\n",
    "            print(f\"Good job, {name}! You guessed my number in {attempts} guesses!\")\n",
    "            break\n",
    "\n",
    "guess_the_number()"
   ]
  },
  {
   "cell_type": "code",
   "execution_count": null,
   "id": "523ebbad-9289-4f2f-9886-9f67939be4bd",
   "metadata": {},
   "outputs": [],
   "source": []
  }
 ],
 "metadata": {
  "kernelspec": {
   "display_name": "Python [conda env:base] *",
   "language": "python",
   "name": "conda-base-py"
  },
  "language_info": {
   "codemirror_mode": {
    "name": "ipython",
    "version": 3
   },
   "file_extension": ".py",
   "mimetype": "text/x-python",
   "name": "python",
   "nbconvert_exporter": "python",
   "pygments_lexer": "ipython3",
   "version": "3.12.7"
  }
 },
 "nbformat": 4,
 "nbformat_minor": 5
}
